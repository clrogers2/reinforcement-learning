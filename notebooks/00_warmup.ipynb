{
 "cells": [
  {
   "attachments": {},
   "cell_type": "markdown",
   "metadata": {},
   "source": [
    "# Artificial Intelligence; Reinforcement Learning in Python\n",
    "## [Warmup](https://deeplearningcourses.com/lectures/27554)"
   ]
  },
  {
   "attachments": {},
   "cell_type": "markdown",
   "metadata": {},
   "source": [
    "##### Question\n",
    "Let's say I am given p(x, y) and I am told to find p(y). What is this process called and what do we call p(y) in this context? Finally how do I implement this process and find the answer?"
   ]
  },
  {
   "attachments": {},
   "cell_type": "markdown",
   "metadata": {},
   "source": [
    "The process of finding the marginal probability distribution of a variable is called marginalization. In this case, you are asked to find the marginal distribution of variable y, which is obtained by summing the joint distribution p(x, y) over all possible values of x. The marginal distribution of y is denoted by p(y).\n",
    "\n",
    "In mathematical terms, the marginal distribution of y can be written as:\n",
    "\n",
    "p(y) = ∑ p(x, y) over all values of x\n",
    "\n",
    "To implement this process in practice, you would need to sum the joint distribution over all possible values of x to obtain the marginal distribution of y. In code, you can implement this as follows:"
   ]
  },
  {
   "cell_type": "code",
   "execution_count": null,
   "metadata": {},
   "outputs": [],
   "source": [
    "import numpy as np\n",
    "\n",
    "# Define the joint distribution p(x,y)\n",
    "p_xy = np.array([[0.1, 0.2, 0.3], [0.05, 0.15, 0.25], [0.05, 0.05, 0.05]])\n",
    "\n",
    "# Find the marginal distribution of y by summing over all possible values of x\n",
    "p_y = np.sum(p_xy, axis=0)\n",
    "\n",
    "print(p_y)"
   ]
  },
  {
   "attachments": {},
   "cell_type": "markdown",
   "metadata": {},
   "source": [
    "In this example, the joint distribution p(x, y) is a 3x3 array, and the marginal distribution of y is obtained by summing over all the rows of the array using the np.sum() function along the first axis (axis 0). The resulting array p_y contains the probabilities of the values of y."
   ]
  },
  {
   "attachments": {},
   "cell_type": "markdown",
   "metadata": {},
   "source": [
    "##### Question \n",
    "Why is the process called marginalization? What does the word marginal mean in this context?"
   ]
  },
  {
   "attachments": {},
   "cell_type": "markdown",
   "metadata": {},
   "source": [
    "The process of finding a probability distribution of a subset of variables from a joint probability distribution of multiple variables is called marginalization. The term \"marginal\" comes from the fact that the resulting distribution is often found in the margins of tables that display the joint distribution.\n",
    "\n",
    "When we marginalize a joint probability distribution over one or more variables, we are essentially summing or integrating over the values of the variables that we do not want to include in the resulting distribution. This process is known as marginalization because we are essentially \"removing\" the unwanted variables from the joint distribution, which in a sense is pushing them to the margins.\n",
    "\n",
    "For example, if we have a joint probability distribution P(X, Y), the marginal probability distribution of Y is obtained by summing or integrating over all possible values of X. This process essentially \"marginalizes out\" the variable X, leaving us with a probability distribution that only involves Y."
   ]
  },
  {
   "attachments": {},
   "cell_type": "markdown",
   "metadata": {},
   "source": [
    "##### Question\n",
    "Why is the joint distribution p(x, y) a 3x3 array?"
   ]
  },
  {
   "attachments": {},
   "cell_type": "markdown",
   "metadata": {},
   "source": [
    "The joint distribution p(x, y) is not necessarily a 3x3 array, it can be any size depending on the number of possible values for the random variables X and Y.\n",
    "\n",
    "In the context of a 3x3 array, we can assume that X and Y are discrete random variables that can take on three possible values each. In this case, the joint distribution p(x, y) can be represented as a 3x3 array, where each cell represents the probability of a particular combination of values for X and Y. For example, if X can take on the values 1, 2, or 3, and Y can take on the values A, B, or C, then the joint distribution p(x, y) could be represented as follows:\n",
    "\n",
    "| |A|B|C|\n",
    "|---|-----|-----|-----|\n",
    "|1|0.1|0.2|0.1|\n",
    "|2|0.2|0.3|0.2|\n",
    "|3|0.1|0.2|0.1|\n",
    "\n",
    "In this example, the probability of X=1 and Y=B is 0.2, and the probability of X=2 and Y=C is 0.2. This joint distribution specifies the probabilities of all possible combinations of values for X and Y, and can be used to calculate probabilities of events involving X and Y, such as P(X=1), P(Y=B), or P(X=1 and Y=B)."
   ]
  },
  {
   "cell_type": "markdown",
   "metadata": {},
   "source": []
  }
 ],
 "metadata": {
  "kernelspec": {
   "display_name": ".venv",
   "language": "python",
   "name": "python3"
  },
  "language_info": {
   "name": "python",
   "version": "3.10.9"
  },
  "orig_nbformat": 4,
  "vscode": {
   "interpreter": {
    "hash": "910250b67f96eb1ff08434c6ed6b9a269e09ee42b74ca9209f38a577be85b1c3"
   }
  }
 },
 "nbformat": 4,
 "nbformat_minor": 2
}
