{
 "cells": [
  {
   "attachments": {},
   "cell_type": "markdown",
   "metadata": {},
   "source": [
    "# Return of the Multi-Armed Bandit"
   ]
  },
  {
   "attachments": {},
   "cell_type": "markdown",
   "metadata": {},
   "source": [
    "## The Explore/Exploit dilemma\n",
    "Explore - Collect lots of data, but we must be impartial and continue to collect data with low win-rates\n",
    "Exploit - Choose the value with the highest win-rate but this would mean we stop collecting data from choices with low win rates.\n",
    "\n",
    "The objective of each is opposed to the other, hence why it is called a dilemma."
   ]
  },
  {
   "attachments": {},
   "cell_type": "markdown",
   "metadata": {},
   "source": [
    "### Adaptive Algorithms\n",
    "1. Epsilon-greedy\n",
    "2. Optimistic Initial Values\n",
    "3. UCB1 (Upper Confidence Bound)\n",
    "4. Thompson Sampling (Bayesian Bandit)\n",
    "\n",
    "Can be used in place of A/B tests. They are methods that help us compensate for effect size, early stopage, and p-value considerations of more rigorous statistical methods."
   ]
  },
  {
   "attachments": {},
   "cell_type": "markdown",
   "metadata": {},
   "source": [
    "### Applications of Explore-Exploit\n",
    "* Advertising click-through rate (ratio of clicks / Total impressions) between two ads. \n",
    "    * We could setup and experiment to determine which ad is better, but due to the law of large numbers we know that we need to collect a lot of data in order to shrink the observed variance (reduce confidence intervals). However, if we show a sub-optimal ad to our customers we are choosing to reduce our profitability, because we could be showing them the add with a better CTR.\n",
    "    * Fundamentally, we want to know which choice is better and to determine that fact as quickly as possible so we can exploit that fact as soon as we reach a reasonable confidence."
   ]
  },
  {
   "attachments": {},
   "cell_type": "markdown",
   "metadata": {},
   "source": [
    "## Epsilon-Greedy"
   ]
  },
  {
   "attachments": {},
   "cell_type": "markdown",
   "metadata": {},
   "source": [
    "Objectives\n",
    "* Need to balance explore and exploit\n",
    "* Making choices based solely on the maximum likelyhood estimate (MLE), i.e. using observations we do have to calculate the maximum probability it could be: 1 win, 3 loss = MLE of 0.25, but it could be worse, doesn't work because we can end up chasing data down a single sub-optimal choice and never switch back to exploring other choices. \n",
    "* This is known as a **greedy** method: meaning only considering immediately available information such as the shortsighted observation that 1/4 is better than 0/1. A non-greedy method would also consider than 1 observation vs 4 observations needs to be considered when choosing the next opportunity."
   ]
  },
  {
   "attachments": {},
   "cell_type": "markdown",
   "metadata": {},
   "source": [
    "Idea\n",
    "* Don't always perform the greedy action\n",
    "* Have a small probability of doing something random (i.e. take a non-greedy action)\n",
    "* Epsilon (**$\\epsilon$**) is the paramater for this random probability of taking a non-greedy action (make choice at random)\n",
    "* 5% or 10% is a common $\\epsilon$ value\n",
    "* Determine when we have *enough* data so we stop choosing sub-optimal bandits (choices).\n",
    "* We can calculate the expected value of the current choice using the current probabilities\n",
    "* We can decay epsilon such that overtime (or as we see probabilities meeting some minimum expected threshold) the rate at which we make non-greedy choices is reduced."
   ]
  },
  {
   "attachments": {},
   "cell_type": "markdown",
   "metadata": {},
   "source": [
    "Sample Mean\n",
    "\n",
    "$\\bar{X}_N =\\frac{1}{N}\\sum^{N}_{i=1} X_{i}$\n",
    "\n",
    "However, calculating the sum in this way requires that we keep a list of $N$ sample means. This would make the computation space and time occur in $O(N)$ linear time. \n",
    "\n",
    "But if we are running a theoretically infinate experiment and we lack the capacity to store an infinitly sized $N$. \n",
    "\n",
    "As such, we must look for a method that is in constant time $O(1)$ and we can do this by keeping a running count and running mean. In other words we use the previous mean and count and the new mean to modify the mean with our new value.\n",
    "\n",
    "Previous Mean at $N-1$:\n",
    "\n",
    "$\\bar{X}_N-1 =\\frac{1}{N-1}\\sum^{N-1}_{i=1} X_i$\n",
    "\n",
    "Current Mean using mean at $N-1$:\n",
    "\n",
    "$\\bar{X}_N = \\frac{1}N((N-1)\\bar{X}_{N-1}+X_N)$\n",
    "###### Frankly I'm a little stumped how to combine the equations to get this output, but I do understand how this works in code\n"
   ]
  },
  {
   "cell_type": "code",
   "execution_count": null,
   "metadata": {},
   "outputs": [],
   "source": [
    "def calc_mean(data:list):\n",
    "    # set starting values\n",
    "    n = 0\n",
    "    mean = 0\n",
    "    # Iteratively update the count and the mean\n",
    "    for x in data:\n",
    "        n += 1\n",
    "        delta = x - mean  # how large a diff between current value and mean\n",
    "        mean += delta / n  # scale the difference by the new total count of values contributing to mean\n",
    "    return mean"
   ]
  },
  {
   "attachments": {},
   "cell_type": "markdown",
   "metadata": {},
   "source": [
    "## Example Multi-Armed Bandit implementation of Epsilon-greedy"
   ]
  },
  {
   "cell_type": "code",
   "execution_count": 5,
   "metadata": {},
   "outputs": [],
   "source": [
    "%matplotlib inline"
   ]
  },
  {
   "cell_type": "code",
   "execution_count": 1,
   "metadata": {},
   "outputs": [],
   "source": [
    "from rl01.bandits import EpsilonGreedy"
   ]
  },
  {
   "cell_type": "code",
   "execution_count": 7,
   "metadata": {},
   "outputs": [],
   "source": [
    "mab = EpsilonGreedy(nbandits=3, probs=[0.2, 0.5, 0.75], eps=0.1, ntrials=10000)"
   ]
  },
  {
   "cell_type": "code",
   "execution_count": 8,
   "metadata": {},
   "outputs": [],
   "source": [
    "mab.experiment()"
   ]
  },
  {
   "cell_type": "code",
   "execution_count": 9,
   "metadata": {},
   "outputs": [
    {
     "name": "stdout",
     "output_type": "stream",
     "text": [
      "Mean Estimate: ['0: 0.7996687186670609', '1: 2.1253691692016634', '2: 8.18277984554352']\n",
      "Total Rewards Earned: 7245.0\n",
      "Overall Win Rate: 0.7245\n",
      "Times Explored: 1013\n",
      "Times Exploited: 8987\n",
      "Times Selected Optimal Bandit: 9285\n"
     ]
    }
   ],
   "source": [
    "mab.calc_metrics()"
   ]
  },
  {
   "cell_type": "code",
   "execution_count": 10,
   "metadata": {},
   "outputs": [
    {
     "data": {
      "image/png": "[encoded data removed]",
      "text/plain": [
       "<Figure size 640x480 with 1 Axes>"
      ]
     },
     "metadata": {},
     "output_type": "display_data"
    }
   ],
   "source": [
    "mab.plot_results()"
   ]
  },
  {
   "cell_type": "code",
   "execution_count": null,
   "metadata": {},
   "outputs": [],
   "source": []
  }
 ],
 "metadata": {
  "kernelspec": {
   "display_name": ".venv",
   "language": "python",
   "name": "python3"
  },
  "language_info": {
   "codemirror_mode": {
    "name": "ipython",
    "version": 3
   },
   "file_extension": ".py",
   "mimetype": "text/x-python",
   "name": "python",
   "nbconvert_exporter": "python",
   "pygments_lexer": "ipython3",
   "version": "3.10.9"
  },
  "orig_nbformat": 4,
  "vscode": {
   "interpreter": {
    "hash": "910250b67f96eb1ff08434c6ed6b9a269e09ee42b74ca9209f38a577be85b1c3"
   }
  }
 },
 "nbformat": 4,
 "nbformat_minor": 2
}
